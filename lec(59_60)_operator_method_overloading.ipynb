{
 "cells": [
  {
   "cell_type": "markdown",
   "id": "510da19a",
   "metadata": {},
   "source": [
    "# lec59\n",
    "## operator overloading"
   ]
  },
  {
   "cell_type": "code",
   "execution_count": 2,
   "id": "e6742fab",
   "metadata": {},
   "outputs": [
    {
     "data": {
      "text/plain": [
       "11"
      ]
     },
     "execution_count": 2,
     "metadata": {},
     "output_type": "execute_result"
    }
   ],
   "source": [
    "a=5\n",
    "b=6\n",
    "a+b # for integers there is already prefined method called __add__ which uses + operator to add two integers"
   ]
  },
  {
   "cell_type": "code",
   "execution_count": 7,
   "id": "ac69870b",
   "metadata": {},
   "outputs": [
    {
     "data": {
      "text/plain": [
       "11"
      ]
     },
     "execution_count": 7,
     "metadata": {},
     "output_type": "execute_result"
    }
   ],
   "source": [
    "int.__add__(a,b)"
   ]
  },
  {
   "cell_type": "code",
   "execution_count": 8,
   "id": "723b9485",
   "metadata": {},
   "outputs": [],
   "source": [
    "# a+b means behind the scenes it is called as int.__add__(a,b)"
   ]
  },
  {
   "cell_type": "code",
   "execution_count": 9,
   "id": "2e3d4431",
   "metadata": {},
   "outputs": [
    {
     "data": {
      "text/plain": [
       "'phanilucky'"
      ]
     },
     "execution_count": 9,
     "metadata": {},
     "output_type": "execute_result"
    }
   ],
   "source": [
    "a=\"phani\"\n",
    "b=\"lucky\"\n",
    "a+b"
   ]
  },
  {
   "cell_type": "code",
   "execution_count": 10,
   "id": "d3042b9e",
   "metadata": {},
   "outputs": [
    {
     "data": {
      "text/plain": [
       "'phanilucky'"
      ]
     },
     "execution_count": 10,
     "metadata": {},
     "output_type": "execute_result"
    }
   ],
   "source": [
    "str.__add__(a,b)"
   ]
  },
  {
   "cell_type": "markdown",
   "id": "da4712df",
   "metadata": {},
   "source": [
    "1. The moment u given + operator it calls the __add__ method and for - it calls the __sub__ method\n",
    "2. These are called as magic methods"
   ]
  },
  {
   "cell_type": "code",
   "execution_count": 15,
   "id": "183fb20c",
   "metadata": {},
   "outputs": [
    {
     "data": {
      "text/plain": [
       "__main__.Student"
      ]
     },
     "execution_count": 15,
     "metadata": {},
     "output_type": "execute_result"
    }
   ],
   "source": [
    "class Student:\n",
    "    def __init__(self,m1,m2):\n",
    "        self.m1=m1\n",
    "        self.m2=m2\n",
    "        \n",
    "s1=Student(75,87)\n",
    "s2=Student(90,95)\n",
    "type(s1)"
   ]
  },
  {
   "cell_type": "code",
   "execution_count": 16,
   "id": "ba90d2e9",
   "metadata": {},
   "outputs": [
    {
     "ename": "TypeError",
     "evalue": "unsupported operand type(s) for +: 'Student' and 'Student'",
     "output_type": "error",
     "traceback": [
      "\u001b[1;31m---------------------------------------------------------------------------\u001b[0m",
      "\u001b[1;31mTypeError\u001b[0m                                 Traceback (most recent call last)",
      "\u001b[1;32m~\\AppData\\Local\\Temp\\ipykernel_45528\\3778343181.py\u001b[0m in \u001b[0;36m<module>\u001b[1;34m\u001b[0m\n\u001b[1;32m----> 1\u001b[1;33m \u001b[0ms3\u001b[0m\u001b[1;33m=\u001b[0m\u001b[0ms1\u001b[0m\u001b[1;33m+\u001b[0m\u001b[0ms2\u001b[0m \u001b[1;31m# for this student class there is no __add__ method defined . so we need to define it and use it\u001b[0m\u001b[1;33m\u001b[0m\u001b[1;33m\u001b[0m\u001b[0m\n\u001b[0m",
      "\u001b[1;31mTypeError\u001b[0m: unsupported operand type(s) for +: 'Student' and 'Student'"
     ]
    }
   ],
   "source": [
    "s3=s1+s2 # for this Student class there is no __add__ method defined . so we need to define it and use it"
   ]
  },
  {
   "cell_type": "code",
   "execution_count": 20,
   "id": "c224b7df",
   "metadata": {},
   "outputs": [],
   "source": [
    "class Student:\n",
    "    def __init__(self,m1,m2):\n",
    "        self.m1=m1\n",
    "        self.m2=m2\n",
    "    def __add__(self,other):\n",
    "        m1=self.m1+other.m1\n",
    "        m2=self.m2+other.m2\n",
    "        s3=Student(m1,m2)\n",
    "        return s3\n",
    "        \n",
    "s1=Student(75,87)\n",
    "s2=Student(90,95)\n",
    "s3=s1+s2 # behind the scenes this will be conveted as --> Student.__add__(s1,s2)"
   ]
  },
  {
   "cell_type": "code",
   "execution_count": 21,
   "id": "b374f8de",
   "metadata": {},
   "outputs": [
    {
     "name": "stdout",
     "output_type": "stream",
     "text": [
      "165\n"
     ]
    }
   ],
   "source": [
    "print(s3.m1)"
   ]
  },
  {
   "cell_type": "code",
   "execution_count": 22,
   "id": "40514f44",
   "metadata": {},
   "outputs": [],
   "source": [
    "# now we will try to compare the s1 and s2"
   ]
  },
  {
   "cell_type": "code",
   "execution_count": 24,
   "id": "6c29d5ad",
   "metadata": {},
   "outputs": [
    {
     "ename": "TypeError",
     "evalue": "'>' not supported between instances of 'Student' and 'Student'",
     "output_type": "error",
     "traceback": [
      "\u001b[1;31m---------------------------------------------------------------------------\u001b[0m",
      "\u001b[1;31mTypeError\u001b[0m                                 Traceback (most recent call last)",
      "\u001b[1;32m~\\AppData\\Local\\Temp\\ipykernel_45528\\1507107245.py\u001b[0m in \u001b[0;36m<module>\u001b[1;34m\u001b[0m\n\u001b[0;32m     11\u001b[0m \u001b[0ms1\u001b[0m\u001b[1;33m=\u001b[0m\u001b[0mStudent\u001b[0m\u001b[1;33m(\u001b[0m\u001b[1;36m75\u001b[0m\u001b[1;33m,\u001b[0m\u001b[1;36m87\u001b[0m\u001b[1;33m)\u001b[0m\u001b[1;33m\u001b[0m\u001b[1;33m\u001b[0m\u001b[0m\n\u001b[0;32m     12\u001b[0m \u001b[0ms2\u001b[0m\u001b[1;33m=\u001b[0m\u001b[0mStudent\u001b[0m\u001b[1;33m(\u001b[0m\u001b[1;36m90\u001b[0m\u001b[1;33m,\u001b[0m\u001b[1;36m95\u001b[0m\u001b[1;33m)\u001b[0m\u001b[1;33m\u001b[0m\u001b[1;33m\u001b[0m\u001b[0m\n\u001b[1;32m---> 13\u001b[1;33m \u001b[1;32mif\u001b[0m \u001b[0ms1\u001b[0m\u001b[1;33m>\u001b[0m\u001b[0ms2\u001b[0m\u001b[1;33m:\u001b[0m \u001b[1;31m# gives error since we haven't defined __gt__ method for the student class\u001b[0m\u001b[1;33m\u001b[0m\u001b[1;33m\u001b[0m\u001b[0m\n\u001b[0m\u001b[0;32m     14\u001b[0m     \u001b[0mprint\u001b[0m\u001b[1;33m(\u001b[0m\u001b[1;34m\"s1 wins\"\u001b[0m\u001b[1;33m)\u001b[0m\u001b[1;33m\u001b[0m\u001b[1;33m\u001b[0m\u001b[0m\n\u001b[0;32m     15\u001b[0m \u001b[1;32melse\u001b[0m\u001b[1;33m:\u001b[0m\u001b[1;33m\u001b[0m\u001b[1;33m\u001b[0m\u001b[0m\n",
      "\u001b[1;31mTypeError\u001b[0m: '>' not supported between instances of 'Student' and 'Student'"
     ]
    }
   ],
   "source": [
    "class Student:\n",
    "    def __init__(self,m1,m2):\n",
    "        self.m1=m1\n",
    "        self.m2=m2\n",
    "    def __add__(self,other):\n",
    "        m1=self.m1+other.m1\n",
    "        m2=self.m2+other.m2\n",
    "        s3=Student(m1,m2)\n",
    "        return s3\n",
    "        \n",
    "s1=Student(75,87)\n",
    "s2=Student(90,95)\n",
    "if s1>s2: # gives error since we haven't defined __gt__ method for the student class\n",
    "    print(\"s1 wins\")\n",
    "else:\n",
    "    print(\"s2 wins\")"
   ]
  },
  {
   "cell_type": "code",
   "execution_count": 25,
   "id": "4469dd34",
   "metadata": {},
   "outputs": [],
   "source": [
    "class Student:\n",
    "    def __init__(self,m1,m2):\n",
    "        self.m1=m1\n",
    "        self.m2=m2\n",
    "    def __add__(self,other):\n",
    "        m1=self.m1+other.m1\n",
    "        m2=self.m2+other.m2\n",
    "        s3=Student(m1,m2)\n",
    "        return s3\n",
    "    def __gt__(self,other):\n",
    "        r1=self.m1+self.m2\n",
    "        r2=other.m1+other.m2\n",
    "        if r1>r2:\n",
    "            return True\n",
    "        else:\n",
    "            return False\n",
    "s1=Student(75,87)\n",
    "s2=Student(90,95)"
   ]
  },
  {
   "cell_type": "code",
   "execution_count": 26,
   "id": "fa9e7821",
   "metadata": {},
   "outputs": [
    {
     "name": "stdout",
     "output_type": "stream",
     "text": [
      "s2 wins\n"
     ]
    }
   ],
   "source": [
    "if s1>s2: \n",
    "    print(\"s1 wins\")\n",
    "else:\n",
    "    print(\"s2 wins\")"
   ]
  },
  {
   "cell_type": "code",
   "execution_count": 28,
   "id": "b74e3889",
   "metadata": {},
   "outputs": [
    {
     "name": "stdout",
     "output_type": "stream",
     "text": [
      "<__main__.Student object at 0x00000187093008E0>\n"
     ]
    }
   ],
   "source": [
    "print(s1) # when u try to print an object, then it will gives the object address only\n",
    "# so we need to define the __str__ method to get some information og what we want for an object."
   ]
  },
  {
   "cell_type": "code",
   "execution_count": 29,
   "id": "0879d85b",
   "metadata": {},
   "outputs": [
    {
     "name": "stdout",
     "output_type": "stream",
     "text": [
      "9\n"
     ]
    }
   ],
   "source": [
    "a=9\n",
    "print(a)"
   ]
  },
  {
   "cell_type": "code",
   "execution_count": 30,
   "id": "848539ae",
   "metadata": {},
   "outputs": [
    {
     "data": {
      "text/plain": [
       "'9'"
      ]
     },
     "execution_count": 30,
     "metadata": {},
     "output_type": "execute_result"
    }
   ],
   "source": [
    "a.__str__()"
   ]
  },
  {
   "cell_type": "code",
   "execution_count": 32,
   "id": "5a275177",
   "metadata": {},
   "outputs": [
    {
     "data": {
      "text/plain": [
       "'<__main__.Student object at 0x00000187093008E0>'"
      ]
     },
     "execution_count": 32,
     "metadata": {},
     "output_type": "execute_result"
    }
   ],
   "source": [
    "s1.__str__() # even if we haven't defined str here for s1,still we got result since it is already predefined even if it is not present in the class"
   ]
  },
  {
   "cell_type": "code",
   "execution_count": 33,
   "id": "07cdfb31",
   "metadata": {},
   "outputs": [],
   "source": [
    "# to override the method we will define here now for this Student class"
   ]
  },
  {
   "cell_type": "code",
   "execution_count": 40,
   "id": "2aa4ab42",
   "metadata": {},
   "outputs": [],
   "source": [
    "class Student:\n",
    "    def __init__(self,m1,m2):\n",
    "        self.m1=m1\n",
    "        self.m2=m2\n",
    "    def __add__(self,other):\n",
    "        m1=self.m1+other.m1\n",
    "        m2=self.m2+other.m2\n",
    "        s3=Student(m1,m2)\n",
    "        return s3\n",
    "    def __str__(self):\n",
    "        return \"{} {}\".format(self.m1,self.m2)\n",
    "    def __gt__(self,other):\n",
    "        r1=self.m1+self.m2\n",
    "        r2=other.m1+other.m2\n",
    "        if r1>r2:\n",
    "            return True\n",
    "        else:\n",
    "            return False\n",
    "s1=Student(75,87)\n",
    "s2=Student(90,95)"
   ]
  },
  {
   "cell_type": "code",
   "execution_count": 41,
   "id": "0b50e829",
   "metadata": {},
   "outputs": [
    {
     "name": "stdout",
     "output_type": "stream",
     "text": [
      "75 87\n"
     ]
    }
   ],
   "source": [
    "print(s1.__str__())"
   ]
  },
  {
   "cell_type": "markdown",
   "id": "7b5f5372",
   "metadata": {},
   "source": [
    "# lec 60\n",
    "## method overloading"
   ]
  },
  {
   "cell_type": "markdown",
   "id": "c53f7985",
   "metadata": {},
   "source": [
    " There are two types of Polymorphism\n",
    "    1. Method overloading\n",
    "    2. Method overriding"
   ]
  },
  {
   "cell_type": "code",
   "execution_count": 43,
   "id": "0c4ca41b",
   "metadata": {},
   "outputs": [],
   "source": [
    "# two methods with same name but different number of arguments or parameters then it will be called as method overloading \n",
    "# same name with same number of parameters or arguments then it is called as method overriding."
   ]
  },
  {
   "cell_type": "code",
   "execution_count": 44,
   "id": "9a15a29b",
   "metadata": {},
   "outputs": [],
   "source": [
    "class Student:\n",
    "    def __init__(self,m1,m2):\n",
    "        self.m1=m1\n",
    "        self.m2=m2\n",
    "    def sum(self,a,b):\n",
    "        s=a+b\n",
    "        return s\n",
    "s1=Student(12,45)"
   ]
  },
  {
   "cell_type": "code",
   "execution_count": 45,
   "id": "f96228ac",
   "metadata": {},
   "outputs": [
    {
     "data": {
      "text/plain": [
       "5"
      ]
     },
     "execution_count": 45,
     "metadata": {},
     "output_type": "execute_result"
    }
   ],
   "source": [
    "s1.sum(2,3)"
   ]
  },
  {
   "cell_type": "code",
   "execution_count": 46,
   "id": "081972d3",
   "metadata": {},
   "outputs": [
    {
     "ename": "TypeError",
     "evalue": "sum() takes 3 positional arguments but 5 were given",
     "output_type": "error",
     "traceback": [
      "\u001b[1;31m---------------------------------------------------------------------------\u001b[0m",
      "\u001b[1;31mTypeError\u001b[0m                                 Traceback (most recent call last)",
      "\u001b[1;32m~\\AppData\\Local\\Temp\\ipykernel_45528\\189655164.py\u001b[0m in \u001b[0;36m<module>\u001b[1;34m\u001b[0m\n\u001b[1;32m----> 1\u001b[1;33m \u001b[0ms1\u001b[0m\u001b[1;33m.\u001b[0m\u001b[0msum\u001b[0m\u001b[1;33m(\u001b[0m\u001b[1;36m3\u001b[0m\u001b[1;33m,\u001b[0m\u001b[1;36m4\u001b[0m\u001b[1;33m,\u001b[0m\u001b[1;36m5\u001b[0m\u001b[1;33m,\u001b[0m\u001b[1;36m6\u001b[0m\u001b[1;33m)\u001b[0m\u001b[1;33m\u001b[0m\u001b[1;33m\u001b[0m\u001b[0m\n\u001b[0m",
      "\u001b[1;31mTypeError\u001b[0m: sum() takes 3 positional arguments but 5 were given"
     ]
    }
   ],
   "source": [
    "s1.sum(3,4,5) # gives error since there is no sum method which takes the three arguments\n"
   ]
  },
  {
   "cell_type": "code",
   "execution_count": 51,
   "id": "b329b253",
   "metadata": {},
   "outputs": [
    {
     "data": {
      "text/plain": [
       "12"
      ]
     },
     "execution_count": 51,
     "metadata": {},
     "output_type": "execute_result"
    }
   ],
   "source": [
    "class Student:\n",
    "    def __init__(self,m1,m2):\n",
    "        self.m1=m1\n",
    "        self.m2=m2\n",
    "    def sum(self,a,b,c):\n",
    "        s=a+b+c\n",
    "        return s\n",
    "s1=Student(12,45)\n",
    "s1.sum(3,4,5)"
   ]
  },
  {
   "cell_type": "code",
   "execution_count": 53,
   "id": "b3e1e50b",
   "metadata": {},
   "outputs": [
    {
     "ename": "TypeError",
     "evalue": "sum() missing 1 required positional argument: 'c'",
     "output_type": "error",
     "traceback": [
      "\u001b[1;31m---------------------------------------------------------------------------\u001b[0m",
      "\u001b[1;31mTypeError\u001b[0m                                 Traceback (most recent call last)",
      "\u001b[1;32m~\\AppData\\Local\\Temp\\ipykernel_45528\\2897624801.py\u001b[0m in \u001b[0;36m<module>\u001b[1;34m\u001b[0m\n\u001b[1;32m----> 1\u001b[1;33m \u001b[0ms1\u001b[0m\u001b[1;33m.\u001b[0m\u001b[0msum\u001b[0m\u001b[1;33m(\u001b[0m\u001b[1;36m3\u001b[0m\u001b[1;33m,\u001b[0m\u001b[1;36m4\u001b[0m\u001b[1;33m)\u001b[0m \u001b[1;31m# but now here it missed again one argument\u001b[0m\u001b[1;33m\u001b[0m\u001b[1;33m\u001b[0m\u001b[0m\n\u001b[0m",
      "\u001b[1;31mTypeError\u001b[0m: sum() missing 1 required positional argument: 'c'"
     ]
    }
   ],
   "source": [
    "s1.sum(3,4) # but now here it missed again one argument"
   ]
  },
  {
   "cell_type": "code",
   "execution_count": 54,
   "id": "50d886ed",
   "metadata": {},
   "outputs": [],
   "source": [
    " # so we will define a sum method which can take any number of arguments upto three\n",
    "# we can also use args and kwargs but for now we use simple concept to understand this.\n"
   ]
  },
  {
   "cell_type": "code",
   "execution_count": 55,
   "id": "8c36d0d1",
   "metadata": {},
   "outputs": [
    {
     "data": {
      "text/plain": [
       "12"
      ]
     },
     "execution_count": 55,
     "metadata": {},
     "output_type": "execute_result"
    }
   ],
   "source": [
    "class Student:\n",
    "    def __init__(self,m1,m2):\n",
    "        self.m1=m1\n",
    "        self.m2=m2\n",
    "    def sum(self,a=None,b=None,c=None):\n",
    "        s=0\n",
    "        if a!=None and b!=None and c!=None:\n",
    "            return a+b+c\n",
    "        elif a!=None and b!=None and c==None:\n",
    "            return a+b\n",
    "        else:\n",
    "            return a\n",
    "        s=a+b+c\n",
    "        return s\n",
    "s1=Student(12,45)\n",
    "s1.sum(3,4,5)"
   ]
  },
  {
   "cell_type": "code",
   "execution_count": 56,
   "id": "37fbb570",
   "metadata": {},
   "outputs": [
    {
     "data": {
      "text/plain": [
       "7"
      ]
     },
     "execution_count": 56,
     "metadata": {},
     "output_type": "execute_result"
    }
   ],
   "source": [
    "s1.sum(3,4)"
   ]
  },
  {
   "cell_type": "code",
   "execution_count": 58,
   "id": "8db97012",
   "metadata": {},
   "outputs": [
    {
     "data": {
      "text/plain": [
       "10"
      ]
     },
     "execution_count": 58,
     "metadata": {},
     "output_type": "execute_result"
    }
   ],
   "source": [
    "s1.sum(10) # now it works for even single value also.\n"
   ]
  },
  {
   "cell_type": "code",
   "execution_count": 59,
   "id": "30d4e4b2",
   "metadata": {},
   "outputs": [],
   "source": [
    "# we will see this concept in the classes\n"
   ]
  },
  {
   "cell_type": "code",
   "execution_count": 60,
   "id": "cfdf6b08",
   "metadata": {},
   "outputs": [
    {
     "name": "stdout",
     "output_type": "stream",
     "text": [
      "In A show\n"
     ]
    }
   ],
   "source": [
    "class A:\n",
    "    def show(self):\n",
    "        print(\"In A show\")\n",
    "class B(A):\n",
    "    pass\n",
    "a=A()\n",
    "a.show()"
   ]
  },
  {
   "cell_type": "code",
   "execution_count": 61,
   "id": "0c542f9c",
   "metadata": {},
   "outputs": [],
   "source": [
    "b=B()"
   ]
  },
  {
   "cell_type": "code",
   "execution_count": 63,
   "id": "a1da5c59",
   "metadata": {},
   "outputs": [
    {
     "name": "stdout",
     "output_type": "stream",
     "text": [
      "In A show\n"
     ]
    }
   ],
   "source": [
    "b.show() # since it doesn't have show in B class it given A show"
   ]
  },
  {
   "cell_type": "code",
   "execution_count": 64,
   "id": "13b64c12",
   "metadata": {},
   "outputs": [
    {
     "name": "stdout",
     "output_type": "stream",
     "text": [
      "In A show\n"
     ]
    }
   ],
   "source": [
    "class A:\n",
    "    def show(self):\n",
    "        print(\"In A show\")\n",
    "class B(A):\n",
    "    def show(self):\n",
    "        print(\"In B show\")\n",
    "a=A()\n",
    "a.show()"
   ]
  },
  {
   "cell_type": "code",
   "execution_count": 66,
   "id": "d4062dd8",
   "metadata": {},
   "outputs": [
    {
     "name": "stdout",
     "output_type": "stream",
     "text": [
      "In B show\n"
     ]
    }
   ],
   "source": [
    "b=B()\n",
    "b.show() # now it overrided A  show and printed B show"
   ]
  },
  {
   "cell_type": "code",
   "execution_count": null,
   "id": "5df6bb68",
   "metadata": {},
   "outputs": [],
   "source": []
  }
 ],
 "metadata": {
  "kernelspec": {
   "display_name": "Python 3 (ipykernel)",
   "language": "python",
   "name": "python3"
  },
  "language_info": {
   "codemirror_mode": {
    "name": "ipython",
    "version": 3
   },
   "file_extension": ".py",
   "mimetype": "text/x-python",
   "name": "python",
   "nbconvert_exporter": "python",
   "pygments_lexer": "ipython3",
   "version": "3.9.13"
  }
 },
 "nbformat": 4,
 "nbformat_minor": 5
}
