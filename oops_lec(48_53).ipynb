{
 "cells": [
  {
   "cell_type": "markdown",
   "id": "855acf50",
   "metadata": {},
   "source": [
    "# Lec 48"
   ]
  },
  {
   "cell_type": "markdown",
   "id": "c038d6b5",
   "metadata": {},
   "source": [
    "  1. Everything is an object in python\n",
    "  2. Every object has 2 things such as Attributes(data) and Behaviour(Methods)\n",
    "  3. In a class you will write the design of the object\n",
    "  4. If you provide a design you will get the object\n",
    "  5. Class is a design[Blueprint] and object is an instance or entity .\n",
    "      "
   ]
  },
  {
   "cell_type": "markdown",
   "id": "e61358b5",
   "metadata": {},
   "source": [
    "# Lec 49"
   ]
  },
  {
   "cell_type": "code",
   "execution_count": 1,
   "id": "0d5ee9dc",
   "metadata": {},
   "outputs": [
    {
     "ename": "SyntaxError",
     "evalue": "invalid syntax (2694527826.py, line 1)",
     "output_type": "error",
     "traceback": [
      "\u001b[1;36m  File \u001b[1;32m\"C:\\Users\\Phanindra Reddy\\AppData\\Local\\Temp\\ipykernel_67164\\2694527826.py\"\u001b[1;36m, line \u001b[1;32m1\u001b[0m\n\u001b[1;33m    1. Before creating an object, we need to create a class\u001b[0m\n\u001b[1;37m       ^\u001b[0m\n\u001b[1;31mSyntaxError\u001b[0m\u001b[1;31m:\u001b[0m invalid syntax\n"
     ]
    }
   ],
   "source": [
    "1. Before creating an object, we need to create a class\n",
    "2.  "
   ]
  },
  {
   "cell_type": "code",
   "execution_count": 2,
   "id": "9ef87115",
   "metadata": {},
   "outputs": [],
   "source": [
    "class Computer:\n",
    "    def config(self):\n",
    "        print(\"I5,32gb,1TB\")\n",
    "comp1=Computer()"
   ]
  },
  {
   "cell_type": "code",
   "execution_count": 3,
   "id": "ad77b4e8",
   "metadata": {},
   "outputs": [
    {
     "name": "stdout",
     "output_type": "stream",
     "text": [
      "<class '__main__.Computer'>\n"
     ]
    }
   ],
   "source": [
    "print(type(comp1))"
   ]
  },
  {
   "cell_type": "code",
   "execution_count": 4,
   "id": "6997cf11",
   "metadata": {},
   "outputs": [
    {
     "name": "stdout",
     "output_type": "stream",
     "text": [
      "<class 'int'>\n"
     ]
    }
   ],
   "source": [
    "print(type(5))"
   ]
  },
  {
   "cell_type": "code",
   "execution_count": 5,
   "id": "66145c7f",
   "metadata": {},
   "outputs": [
    {
     "name": "stderr",
     "output_type": "stream",
     "text": [
      "UsageError: Invalid config statement: '()', should be `Class.trait = value`.\n"
     ]
    }
   ],
   "source": [
    "config()"
   ]
  },
  {
   "cell_type": "code",
   "execution_count": 6,
   "id": "65741d0c",
   "metadata": {},
   "outputs": [],
   "source": [
    "# normally functions can be called diretly but when it comes to methods(functions) in classes we need help of objects or classes"
   ]
  },
  {
   "cell_type": "code",
   "execution_count": 8,
   "id": "18659175",
   "metadata": {},
   "outputs": [
    {
     "ename": "TypeError",
     "evalue": "config() missing 1 required positional argument: 'self'",
     "output_type": "error",
     "traceback": [
      "\u001b[1;31m---------------------------------------------------------------------------\u001b[0m",
      "\u001b[1;31mTypeError\u001b[0m                                 Traceback (most recent call last)",
      "\u001b[1;32m~\\AppData\\Local\\Temp\\ipykernel_67164\\2781151592.py\u001b[0m in \u001b[0;36m<module>\u001b[1;34m\u001b[0m\n\u001b[1;32m----> 1\u001b[1;33m \u001b[0mComputer\u001b[0m\u001b[1;33m.\u001b[0m\u001b[0mconfig\u001b[0m\u001b[1;33m(\u001b[0m\u001b[1;33m)\u001b[0m \u001b[1;31m# this gives error\u001b[0m\u001b[1;33m\u001b[0m\u001b[1;33m\u001b[0m\u001b[0m\n\u001b[0m",
      "\u001b[1;31mTypeError\u001b[0m: config() missing 1 required positional argument: 'self'"
     ]
    }
   ],
   "source": [
    "Computer.config() # this gives error"
   ]
  },
  {
   "cell_type": "markdown",
   "id": "263a3398",
   "metadata": {},
   "source": [
    "1. The error arises since we are not mentioning the object.\n",
    "2. We need to provide an object as there are lots of objects present for a class\n",
    "3. Give the method name also\n",
    "4. we need to define the object which we are talking about."
   ]
  },
  {
   "cell_type": "code",
   "execution_count": 10,
   "id": "3fc56aa3",
   "metadata": {},
   "outputs": [
    {
     "name": "stdout",
     "output_type": "stream",
     "text": [
      "I5,32gb,1TB\n"
     ]
    }
   ],
   "source": [
    "Computer.config(comp1) # also we can write as comp1.config()"
   ]
  },
  {
   "cell_type": "code",
   "execution_count": 14,
   "id": "8f207de9",
   "metadata": {},
   "outputs": [
    {
     "name": "stdout",
     "output_type": "stream",
     "text": [
      "I5,32gb,1TB\n"
     ]
    }
   ],
   "source": [
    "# we  can use the object itself to call the config()\n",
    "comp1.config() # this will work as Computer.config(comp1)\n",
    "# behind the scenes , the config will take the comp1 as parameter and it will pass it in the place of self"
   ]
  },
  {
   "cell_type": "markdown",
   "id": "409a56d6",
   "metadata": {},
   "source": [
    "# lec 50"
   ]
  },
  {
   "cell_type": "markdown",
   "id": "6785c413",
   "metadata": {},
   "source": [
    "1. For every object we create , the __init__ method is called once.\n",
    "2. __init__ will be called automatically once when the object is created.\n"
   ]
  },
  {
   "cell_type": "markdown",
   "id": "a5de4109",
   "metadata": {},
   "source": [
    "class Computer:\n",
    "    def __init__(self):\n",
    "        pass\n",
    "    def config(self):\n",
    "        print(\"I5,32gb,1TB\")\n",
    "comp1=Computer()"
   ]
  },
  {
   "cell_type": "code",
   "execution_count": 17,
   "id": "095e3b82",
   "metadata": {},
   "outputs": [
    {
     "data": {
      "text/plain": [
       "<__main__.Computer at 0x1d6ef0aef40>"
      ]
     },
     "execution_count": 17,
     "metadata": {},
     "output_type": "execute_result"
    }
   ],
   "source": [
    "comp1"
   ]
  },
  {
   "cell_type": "code",
   "execution_count": 20,
   "id": "1f10e93d",
   "metadata": {},
   "outputs": [],
   "source": [
    "class Computer:\n",
    "    def __init__(self,processor,ram,memory): # here these three values are just arguments only. we want these arguments as part of our object\n",
    "        # we need to assign these values to our object where self is the object here itself. so we use as self.ram=ram\n",
    "        self.proc=processor\n",
    "        self.ram=ram\n",
    "        self.mem=memory\n",
    "    def config(self):\n",
    "        print(self.proc,self.ram,self.mem)\n",
    "comp1=Computer(\"I5\",\"32gb\",\"1TB\") # in the constructor itself , we can pass the data to the object we created "
   ]
  },
  {
   "cell_type": "code",
   "execution_count": 21,
   "id": "37bf2381",
   "metadata": {},
   "outputs": [
    {
     "data": {
      "text/plain": [
       "<__main__.Computer at 0x1d6ef1bedf0>"
      ]
     },
     "execution_count": 21,
     "metadata": {},
     "output_type": "execute_result"
    }
   ],
   "source": [
    "comp1"
   ]
  },
  {
   "cell_type": "code",
   "execution_count": 22,
   "id": "a204115b",
   "metadata": {},
   "outputs": [
    {
     "name": "stdout",
     "output_type": "stream",
     "text": [
      "I5 32gb 1TB\n"
     ]
    }
   ],
   "source": [
    "comp1.config()"
   ]
  },
  {
   "cell_type": "code",
   "execution_count": 23,
   "id": "c2627db3",
   "metadata": {},
   "outputs": [],
   "source": [
    "comp2=Computer(\"I7\",\"64gb\",\"1TB\") # indirectly we are passing the four objects here which is object itself in place of self  as \n",
    "# Computer.config(comp2,\"I7\",\"64gb\".\"1TB\") "
   ]
  },
  {
   "cell_type": "code",
   "execution_count": 24,
   "id": "fce00c2c",
   "metadata": {},
   "outputs": [
    {
     "name": "stdout",
     "output_type": "stream",
     "text": [
      "I7 64gb 1TB\n"
     ]
    }
   ],
   "source": [
    "comp2.config()"
   ]
  },
  {
   "cell_type": "markdown",
   "id": "05564e16",
   "metadata": {},
   "source": [
    "# lec 51"
   ]
  },
  {
   "cell_type": "markdown",
   "id": "1962bce9",
   "metadata": {},
   "source": [
    "1. Who defines the size of an object? \n",
    "2. Who calculates the size of the object?\n",
    "\n",
    "## Constructor\n",
    "\n",
    "The size of an object depends on the no of varaibles and size of each variable\n",
    "\n",
    "1. constructor is responsible for calculating and allocating memory to the object data"
   ]
  },
  {
   "cell_type": "code",
   "execution_count": 28,
   "id": "b1d9db7c",
   "metadata": {},
   "outputs": [
    {
     "name": "stdout",
     "output_type": "stream",
     "text": [
      "HP HP\n"
     ]
    }
   ],
   "source": [
    "class Computer:\n",
    "    def __init__(self):\n",
    "        self.name=\"HP\"\n",
    "        self.price=55000\n",
    "c1=Computer() # ---> Computer() it is the constructor.\n",
    "c2=Computer() #  --> both the c1 and c2 have same values\n",
    "\n",
    "print(c1.name,c2.name)"
   ]
  },
  {
   "cell_type": "code",
   "execution_count": 29,
   "id": "ef36e92f",
   "metadata": {},
   "outputs": [],
   "source": [
    "# to change the value of the variable :\n",
    "c1.name=\"Dell\""
   ]
  },
  {
   "cell_type": "code",
   "execution_count": 30,
   "id": "d0bc63b5",
   "metadata": {},
   "outputs": [
    {
     "name": "stdout",
     "output_type": "stream",
     "text": [
      "Dell HP\n"
     ]
    }
   ],
   "source": [
    "print(c1.name,c2.name)"
   ]
  },
  {
   "cell_type": "markdown",
   "id": "dd5ba88b",
   "metadata": {},
   "source": [
    "# Why we use self?\n",
    "1. We don't know the which object we are referring to .\n",
    "2. So we use self in the class methods so that we can know which object we are particularly referring to.\n",
    "3. In class we are not mentioning any particular object to change\n",
    "4. So to change any object variable name particularly we have to use the object name and it's attribute or method\n"
   ]
  },
  {
   "cell_type": "code",
   "execution_count": 31,
   "id": "97f28c94",
   "metadata": {},
   "outputs": [
    {
     "data": {
      "text/plain": [
       "55000"
      ]
     },
     "execution_count": 31,
     "metadata": {},
     "output_type": "execute_result"
    }
   ],
   "source": [
    "c1.price"
   ]
  },
  {
   "cell_type": "code",
   "execution_count": 33,
   "id": "63e8a6d3",
   "metadata": {},
   "outputs": [
    {
     "name": "stdout",
     "output_type": "stream",
     "text": [
      "HP HP\n"
     ]
    }
   ],
   "source": [
    "class Computer:\n",
    "    def __init__(self):\n",
    "        self.name=\"HP\"\n",
    "        self.price=55000\n",
    "        \n",
    "    def update(self):\n",
    "        self.price=1000000\n",
    "c1=Computer() # ---> Computer() it is the constructor.\n",
    "c2=Computer() #  --> both the c1 and c2 have same values\n",
    "\n",
    "print(c1.name,c2.name)\n",
    "c2.update()"
   ]
  },
  {
   "cell_type": "code",
   "execution_count": 34,
   "id": "20766d51",
   "metadata": {},
   "outputs": [
    {
     "name": "stdout",
     "output_type": "stream",
     "text": [
      "1000000\n"
     ]
    }
   ],
   "source": [
    "print(c2.price)"
   ]
  },
  {
   "cell_type": "markdown",
   "id": "20962d69",
   "metadata": {},
   "source": [
    "## Comparing the objects attributes \n",
    "1. we cannot use == here as it gives error in case of objects values\n",
    "2. So we will create a method which will compares the two objects variables\n"
   ]
  },
  {
   "cell_type": "code",
   "execution_count": 38,
   "id": "ea9fc2d2",
   "metadata": {},
   "outputs": [
    {
     "name": "stdout",
     "output_type": "stream",
     "text": [
      "Prices are same\n",
      "Prices are varying\n"
     ]
    }
   ],
   "source": [
    "class Computer:\n",
    "    def __init__(self):\n",
    "        self.name=\"HP\"\n",
    "        self.price=55000\n",
    "    def compare(self,others):\n",
    "        if self.price==others.price:\n",
    "            return True\n",
    "        else:\n",
    "            return False\n",
    "        \n",
    "    \n",
    "c1=Computer() \n",
    "c2=Computer() \n",
    "\n",
    "if c1.compare(c2):\n",
    "    # comparing the only prices\n",
    "    print(\"Prices are same\")\n",
    "else:\n",
    "    print(\"Prices are varying\")\n",
    "c2.price=100000\n",
    "if c1.compare(c2):\n",
    "    # comparing the only prices\n",
    "    print(\"Prices are same\")\n",
    "else:\n",
    "    print(\"Prices are varying\")"
   ]
  },
  {
   "cell_type": "markdown",
   "id": "5059e964",
   "metadata": {},
   "source": [
    "# lec 52 Static and instance variables"
   ]
  },
  {
   "cell_type": "code",
   "execution_count": 44,
   "id": "dcd00771",
   "metadata": {},
   "outputs": [
    {
     "name": "stdout",
     "output_type": "stream",
     "text": [
      "32 gb HP\n"
     ]
    }
   ],
   "source": [
    "\n",
    "# here name,price are the instance variables which means for every object we create these values are different\n",
    "# ram is a class or static variable which means for all the objects we create the value is same in the class\n",
    "class Computer:\n",
    "    ram=\"32 gb\"  # this will be stored in the class namespace \n",
    "    def __init__(self):\n",
    "        self.name=\"HP\"\n",
    "        self.price=55000    # these variables are stored in the object/ instance namespace\n",
    "c1=Computer()                # namespace is an area where you create and store object/variable\n",
    "c2=Computer()\n",
    "print(c1.ram,c1.name)\n",
    "c2.name=\"Lenovo\""
   ]
  },
  {
   "cell_type": "code",
   "execution_count": 45,
   "id": "860da71a",
   "metadata": {},
   "outputs": [
    {
     "name": "stdout",
     "output_type": "stream",
     "text": [
      "32 gb Lenovo\n"
     ]
    }
   ],
   "source": [
    "print(c2.ram ,c2.name)"
   ]
  },
  {
   "cell_type": "code",
   "execution_count": 46,
   "id": "d69603ee",
   "metadata": {},
   "outputs": [],
   "source": [
    "# To change the class variables use the class name and change them\n",
    "Computer.ram=\"64gb\""
   ]
  },
  {
   "cell_type": "code",
   "execution_count": 47,
   "id": "a3954b97",
   "metadata": {},
   "outputs": [
    {
     "name": "stdout",
     "output_type": "stream",
     "text": [
      "64gb 64gb\n"
     ]
    }
   ],
   "source": [
    "print(c1.ram,c2.ram)"
   ]
  },
  {
   "cell_type": "markdown",
   "id": "faa3d60c",
   "metadata": {},
   "source": [
    "## lec 53 Types of methods "
   ]
  },
  {
   "cell_type": "markdown",
   "id": "615c34c6",
   "metadata": {},
   "source": [
    "1. Instance Method (self)--> no decorator needed\n",
    "2. Static Method   (no key words)         -->@staticmethod\n",
    "3. class Method    (cls)   -->@classmethod"
   ]
  },
  {
   "cell_type": "code",
   "execution_count": 70,
   "id": "18b574db",
   "metadata": {},
   "outputs": [],
   "source": [
    "class Computer:\n",
    "    ram=32\n",
    "    def __init__(self): # this is an instance method since self is used here \n",
    "        self.name=\"HP\"\n",
    "        self.price=55000\n",
    "    def compare(self,others):\n",
    "        if self.price==others.price:\n",
    "            return True\n",
    "        else:\n",
    "            return False\n",
    "    def get_name_c1(self):\n",
    "        return c1.name\n",
    "    def set_name_c1(self,new_name):\n",
    "        self.name=new_name\n",
    "        print(self.name)\n",
    "    @classmethod # to access the class variables or to create the class methods we need to use the cls keyword and mention the decorator\n",
    "    def info(cls):\n",
    "        print(\"Ram is :\",Computer.ram)\n",
    "    @staticmethod # here it doesn't care about the static variables or instance variables\n",
    "    # nothing will present here .\n",
    "    def information():\n",
    "        print(\"This is all about the static methods\")\n",
    "      # decorators are mentioned as above for each method if they need   \n",
    "    \n",
    "c1=Computer() \n",
    "c2=Computer() "
   ]
  },
  {
   "cell_type": "code",
   "execution_count": 71,
   "id": "3a3e3ade",
   "metadata": {},
   "outputs": [
    {
     "name": "stdout",
     "output_type": "stream",
     "text": [
      "Ram is : 32\n"
     ]
    }
   ],
   "source": [
    "Computer.info()"
   ]
  },
  {
   "cell_type": "code",
   "execution_count": 72,
   "id": "2c12eeaa",
   "metadata": {},
   "outputs": [
    {
     "name": "stdout",
     "output_type": "stream",
     "text": [
      "This is all about the static methods\n",
      "None\n"
     ]
    }
   ],
   "source": [
    "print(Computer.information())"
   ]
  },
  {
   "cell_type": "code",
   "execution_count": 73,
   "id": "f4e43564",
   "metadata": {},
   "outputs": [
    {
     "name": "stdout",
     "output_type": "stream",
     "text": [
      "This is all about the static methods\n"
     ]
    }
   ],
   "source": [
    "Computer.information()"
   ]
  },
  {
   "cell_type": "code",
   "execution_count": 74,
   "id": "8740323b",
   "metadata": {},
   "outputs": [
    {
     "data": {
      "text/plain": [
       "'HP'"
      ]
     },
     "execution_count": 74,
     "metadata": {},
     "output_type": "execute_result"
    }
   ],
   "source": [
    "c1.get_name_c1()"
   ]
  },
  {
   "cell_type": "code",
   "execution_count": 75,
   "id": "aaae5f10",
   "metadata": {},
   "outputs": [
    {
     "name": "stdout",
     "output_type": "stream",
     "text": [
      "Lenovo s 530\n"
     ]
    }
   ],
   "source": [
    "c1.set_name_c1(\"Lenovo s 530\")"
   ]
  },
  {
   "cell_type": "code",
   "execution_count": null,
   "id": "9f0a0e63",
   "metadata": {},
   "outputs": [],
   "source": []
  }
 ],
 "metadata": {
  "kernelspec": {
   "display_name": "Python 3 (ipykernel)",
   "language": "python",
   "name": "python3"
  },
  "language_info": {
   "codemirror_mode": {
    "name": "ipython",
    "version": 3
   },
   "file_extension": ".py",
   "mimetype": "text/x-python",
   "name": "python",
   "nbconvert_exporter": "python",
   "pygments_lexer": "ipython3",
   "version": "3.9.13"
  }
 },
 "nbformat": 4,
 "nbformat_minor": 5
}
