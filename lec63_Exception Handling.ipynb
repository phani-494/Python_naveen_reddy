{
 "cells": [
  {
   "cell_type": "code",
   "execution_count": 1,
   "id": "e79dee22",
   "metadata": {},
   "outputs": [
    {
     "name": "stdout",
     "output_type": "stream",
     "text": [
      "1.6666666666666667\n"
     ]
    }
   ],
   "source": [
    "a=5\n",
    "b=3\n",
    "print(a/b)"
   ]
  },
  {
   "cell_type": "code",
   "execution_count": 2,
   "id": "dac655f7",
   "metadata": {},
   "outputs": [
    {
     "ename": "ZeroDivisionError",
     "evalue": "division by zero",
     "output_type": "error",
     "traceback": [
      "\u001b[1;31m---------------------------------------------------------------------------\u001b[0m",
      "\u001b[1;31mZeroDivisionError\u001b[0m                         Traceback (most recent call last)",
      "\u001b[1;32m~\\AppData\\Local\\Temp\\ipykernel_58088\\2108540945.py\u001b[0m in \u001b[0;36m<module>\u001b[1;34m\u001b[0m\n\u001b[0;32m      1\u001b[0m \u001b[0mc\u001b[0m\u001b[1;33m=\u001b[0m\u001b[1;36m0\u001b[0m\u001b[1;33m\u001b[0m\u001b[1;33m\u001b[0m\u001b[0m\n\u001b[1;32m----> 2\u001b[1;33m \u001b[0mprint\u001b[0m\u001b[1;33m(\u001b[0m\u001b[0ma\u001b[0m\u001b[1;33m/\u001b[0m\u001b[0mc\u001b[0m\u001b[1;33m)\u001b[0m\u001b[1;33m\u001b[0m\u001b[1;33m\u001b[0m\u001b[0m\n\u001b[0m",
      "\u001b[1;31mZeroDivisionError\u001b[0m: division by zero"
     ]
    }
   ],
   "source": [
    "c=0\n",
    "print(a/c)"
   ]
  },
  {
   "cell_type": "code",
   "execution_count": 3,
   "id": "cbc1ea31",
   "metadata": {},
   "outputs": [],
   "source": [
    "# here we got an error as ZeroDivisionError\n",
    "# We don't want to stop our eexcution even if any error occurs\n",
    "# so we try and except here"
   ]
  },
  {
   "cell_type": "code",
   "execution_count": 19,
   "id": "13f813a1",
   "metadata": {},
   "outputs": [
    {
     "name": "stdout",
     "output_type": "stream",
     "text": [
      "2.5\n"
     ]
    }
   ],
   "source": [
    "a=5\n",
    "b=2\n",
    "try:\n",
    "    print(a/b)\n",
    "except Exception:\n",
    "    print(\"Hey u cannot use zero for division here\")"
   ]
  },
  {
   "cell_type": "code",
   "execution_count": 6,
   "id": "ee71f109",
   "metadata": {},
   "outputs": [
    {
     "name": "stdout",
     "output_type": "stream",
     "text": [
      "Hey u cannot use zero for division here: division by zero\n"
     ]
    }
   ],
   "source": [
    "# to print the name of error we can also use here as :\n",
    "a=5\n",
    "b=0\n",
    "try:\n",
    "    print(a/b)\n",
    "except Exception as e:\n",
    "    print(\"Hey u cannot use zero for division here:\",e)"
   ]
  },
  {
   "cell_type": "code",
   "execution_count": 7,
   "id": "41a752bb",
   "metadata": {},
   "outputs": [
    {
     "name": "stdout",
     "output_type": "stream",
     "text": [
      "Hey u cannot use zero for division here: division by zero\n"
     ]
    }
   ],
   "source": [
    "# if we know exactly what kind of error it is returning then we can also use the error name particularly for that exception\n",
    "a=5\n",
    "b=0\n",
    "try:\n",
    "    print(a/b)\n",
    "except ZeroDivisionError as e:\n",
    "    print(\"Hey u cannot use zero for division here:\",e)"
   ]
  },
  {
   "cell_type": "code",
   "execution_count": 8,
   "id": "7f3ec587",
   "metadata": {},
   "outputs": [
    {
     "name": "stdout",
     "output_type": "stream",
     "text": [
      "Enter a number here:h\n"
     ]
    },
    {
     "ename": "ValueError",
     "evalue": "invalid literal for int() with base 10: 'h'",
     "output_type": "error",
     "traceback": [
      "\u001b[1;31m---------------------------------------------------------------------------\u001b[0m",
      "\u001b[1;31mValueError\u001b[0m                                Traceback (most recent call last)",
      "\u001b[1;32m~\\AppData\\Local\\Temp\\ipykernel_58088\\3825014240.py\u001b[0m in \u001b[0;36m<module>\u001b[1;34m\u001b[0m\n\u001b[0;32m      1\u001b[0m \u001b[1;31m# we may have some other errors as well\u001b[0m\u001b[1;33m\u001b[0m\u001b[1;33m\u001b[0m\u001b[0m\n\u001b[1;32m----> 2\u001b[1;33m \u001b[0mnum\u001b[0m\u001b[1;33m=\u001b[0m\u001b[0mint\u001b[0m\u001b[1;33m(\u001b[0m\u001b[0minput\u001b[0m\u001b[1;33m(\u001b[0m\u001b[1;34m\"Enter a number here:\"\u001b[0m\u001b[1;33m)\u001b[0m\u001b[1;33m)\u001b[0m\u001b[1;33m\u001b[0m\u001b[1;33m\u001b[0m\u001b[0m\n\u001b[0m",
      "\u001b[1;31mValueError\u001b[0m: invalid literal for int() with base 10: 'h'"
     ]
    }
   ],
   "source": [
    "# we may have some other errors as well\n",
    "num=int(input(\"Enter a number here:\"))"
   ]
  },
  {
   "cell_type": "code",
   "execution_count": 9,
   "id": "8f407e36",
   "metadata": {},
   "outputs": [
    {
     "name": "stdout",
     "output_type": "stream",
     "text": [
      "Enter a number here:k\n"
     ]
    },
    {
     "ename": "ValueError",
     "evalue": "invalid literal for int() with base 10: 'k'",
     "output_type": "error",
     "traceback": [
      "\u001b[1;31m---------------------------------------------------------------------------\u001b[0m",
      "\u001b[1;31mValueError\u001b[0m                                Traceback (most recent call last)",
      "\u001b[1;32m~\\AppData\\Local\\Temp\\ipykernel_58088\\1111624720.py\u001b[0m in \u001b[0;36m<module>\u001b[1;34m\u001b[0m\n\u001b[0;32m      1\u001b[0m \u001b[0ma\u001b[0m\u001b[1;33m=\u001b[0m\u001b[1;36m5\u001b[0m\u001b[1;33m\u001b[0m\u001b[1;33m\u001b[0m\u001b[0m\n\u001b[0;32m      2\u001b[0m \u001b[0mb\u001b[0m\u001b[1;33m=\u001b[0m\u001b[1;36m0\u001b[0m\u001b[1;33m\u001b[0m\u001b[1;33m\u001b[0m\u001b[0m\n\u001b[1;32m----> 3\u001b[1;33m \u001b[0mnum\u001b[0m\u001b[1;33m=\u001b[0m\u001b[0mint\u001b[0m\u001b[1;33m(\u001b[0m\u001b[0minput\u001b[0m\u001b[1;33m(\u001b[0m\u001b[1;34m\"Enter a number here:\"\u001b[0m\u001b[1;33m)\u001b[0m\u001b[1;33m)\u001b[0m\u001b[1;33m\u001b[0m\u001b[1;33m\u001b[0m\u001b[0m\n\u001b[0m\u001b[0;32m      4\u001b[0m \u001b[1;32mtry\u001b[0m\u001b[1;33m:\u001b[0m\u001b[1;33m\u001b[0m\u001b[1;33m\u001b[0m\u001b[0m\n\u001b[0;32m      5\u001b[0m     \u001b[0mprint\u001b[0m\u001b[1;33m(\u001b[0m\u001b[0ma\u001b[0m\u001b[1;33m/\u001b[0m\u001b[0mb\u001b[0m\u001b[1;33m)\u001b[0m\u001b[1;33m\u001b[0m\u001b[1;33m\u001b[0m\u001b[0m\n",
      "\u001b[1;31mValueError\u001b[0m: invalid literal for int() with base 10: 'k'"
     ]
    }
   ],
   "source": [
    "a=5\n",
    "b=0\n",
    "num=int(input(\"Enter a number here:\")) # since this line is giving error so it need to be in the try statement\n",
    "try:\n",
    "    print(a/b)\n",
    "except Exception:\n",
    "    print(\"Hey u cannot use zero for division here\")"
   ]
  },
  {
   "cell_type": "code",
   "execution_count": 17,
   "id": "dab5c334",
   "metadata": {},
   "outputs": [
    {
     "name": "stdout",
     "output_type": "stream",
     "text": [
      "Enter a number here:j\n",
      "Invalid input\n"
     ]
    }
   ],
   "source": [
    "a=5\n",
    "b=0\n",
    "\n",
    "try:\n",
    "    num=int(input(\"Enter a number here:\"))\n",
    "    print(a/b)\n",
    "except ZeroDivisionError as e: \n",
    "    print(\"Hey u cannot use zero for division here\")\n",
    "except ValueError as e:\n",
    "    print(\"Invalid input\")\n",
    "except Exception as e:\n",
    "    print(\"Something went wrong\")"
   ]
  },
  {
   "cell_type": "code",
   "execution_count": 18,
   "id": "9b090567",
   "metadata": {},
   "outputs": [],
   "source": [
    "# We need to close the resources whatever we opened such as files, databases "
   ]
  },
  {
   "cell_type": "code",
   "execution_count": 20,
   "id": "b2b8361e",
   "metadata": {},
   "outputs": [
    {
     "name": "stdout",
     "output_type": "stream",
     "text": [
      "Resource opened \n",
      "2.5\n",
      "Resource closed \n"
     ]
    }
   ],
   "source": [
    "a=5\n",
    "b=2\n",
    "try:\n",
    "    print(\"Resource opened \")\n",
    "    print(a/b)\n",
    "    print(\"Resource closed \")\n",
    "except Exception:\n",
    "    print(\"Hey u cannot use zero for division here\")"
   ]
  },
  {
   "cell_type": "code",
   "execution_count": 21,
   "id": "39482ee2",
   "metadata": {},
   "outputs": [
    {
     "name": "stdout",
     "output_type": "stream",
     "text": [
      "Resource opened \n",
      "Hey u cannot use zero for division here\n"
     ]
    }
   ],
   "source": [
    "# for b=0  we cannot close the resource here \n",
    "a=5\n",
    "b=0\n",
    "try:\n",
    "    print(\"Resource opened \")\n",
    "    print(a/b)\n",
    "    print(\"Resource closed \")\n",
    "except Exception:\n",
    "    print(\"Hey u cannot use zero for division here\")"
   ]
  },
  {
   "cell_type": "code",
   "execution_count": 22,
   "id": "995dce08",
   "metadata": {},
   "outputs": [
    {
     "name": "stdout",
     "output_type": "stream",
     "text": [
      "Resource opened \n",
      "Hey u cannot use zero for division here\n",
      "Resource closed \n"
     ]
    }
   ],
   "source": [
    "a=5\n",
    "b=0\n",
    "try:\n",
    "    print(\"Resource opened \")\n",
    "    print(a/b)\n",
    "    \n",
    "except Exception:\n",
    "    print(\"Hey u cannot use zero for division here\")\n",
    "    print(\"Resource closed \")"
   ]
  },
  {
   "cell_type": "code",
   "execution_count": 23,
   "id": "2f6cef2d",
   "metadata": {},
   "outputs": [
    {
     "name": "stdout",
     "output_type": "stream",
     "text": [
      "Resource opened \n",
      "2.5\n"
     ]
    }
   ],
   "source": [
    "# for the same program above if we give the b=2 then:\n",
    "a=5\n",
    "b=2\n",
    "try:\n",
    "    print(\"Resource opened \")\n",
    "    print(a/b)\n",
    "    \n",
    "except Exception:\n",
    "    print(\"Hey u cannot use zero for division here\")\n",
    "    print(\"Resource closed \")"
   ]
  },
  {
   "cell_type": "code",
   "execution_count": 24,
   "id": "23bad35a",
   "metadata": {},
   "outputs": [],
   "source": [
    "# so we need to close the resource at any cost even an exception occurs or not"
   ]
  },
  {
   "cell_type": "code",
   "execution_count": 25,
   "id": "01dc3305",
   "metadata": {},
   "outputs": [],
   "source": [
    "# so we use the finally keyword here"
   ]
  },
  {
   "cell_type": "code",
   "execution_count": 27,
   "id": "cc45aa43",
   "metadata": {},
   "outputs": [
    {
     "name": "stdout",
     "output_type": "stream",
     "text": [
      "Resource opened\n",
      "Enter a number here:7\n",
      "Hey u cannot use zero for division here\n",
      "Reosurce closed here\n"
     ]
    }
   ],
   "source": [
    "a=5\n",
    "b=0\n",
    "\n",
    "try:\n",
    "    print(\"Resource opened\")\n",
    "    num=int(input(\"Enter a number here:\"))\n",
    "    print(a/b)\n",
    "except ZeroDivisionError as e: \n",
    "    print(\"Hey u cannot use zero for division here\")\n",
    "except ValueError as e:\n",
    "    print(\"Invalid input\")\n",
    "except Exception as e:\n",
    "    print(\"Something went wrong\")\n",
    "finally:\n",
    "    print(\"Reosurce closed here\")"
   ]
  },
  {
   "cell_type": "code",
   "execution_count": 28,
   "id": "490bf745",
   "metadata": {},
   "outputs": [
    {
     "name": "stdout",
     "output_type": "stream",
     "text": [
      "Resource opened\n",
      "Enter a number here:8\n",
      "1.0\n",
      "Reosurce closed here\n"
     ]
    }
   ],
   "source": [
    "a=5\n",
    "b=5\n",
    "\n",
    "try:\n",
    "    print(\"Resource opened\")\n",
    "    num=int(input(\"Enter a number here:\"))\n",
    "    print(a/b)\n",
    "except ZeroDivisionError as e: \n",
    "    print(\"Hey u cannot use zero for division here\")\n",
    "except ValueError as e:\n",
    "    print(\"Invalid input\")\n",
    "except Exception as e:\n",
    "    print(\"Something went wrong\")\n",
    "finally:\n",
    "    print(\"Reosurce closed here\")"
   ]
  },
  {
   "cell_type": "code",
   "execution_count": null,
   "id": "82dfb485",
   "metadata": {},
   "outputs": [],
   "source": []
  }
 ],
 "metadata": {
  "kernelspec": {
   "display_name": "Python 3 (ipykernel)",
   "language": "python",
   "name": "python3"
  },
  "language_info": {
   "codemirror_mode": {
    "name": "ipython",
    "version": 3
   },
   "file_extension": ".py",
   "mimetype": "text/x-python",
   "name": "python",
   "nbconvert_exporter": "python",
   "pygments_lexer": "ipython3",
   "version": "3.9.13"
  }
 },
 "nbformat": 4,
 "nbformat_minor": 5
}
