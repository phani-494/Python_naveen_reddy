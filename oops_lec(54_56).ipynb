{
 "cells": [
  {
   "cell_type": "markdown",
   "id": "169b5595",
   "metadata": {},
   "source": [
    "# lec 54\n",
    "## inner class "
   ]
  },
  {
   "cell_type": "code",
   "execution_count": 24,
   "id": "9b6cd316",
   "metadata": {},
   "outputs": [],
   "source": [
    "class Student:\n",
    "    def __init__(self,name,rollno):\n",
    "        self.name=name\n",
    "        self.rollno=rollno\n",
    "        self.lap=self.Laptop()\n",
    "    def show(self):\n",
    "        self.lap.show()\n",
    "        print(self.name,self.rollno)\n",
    "        \n",
    "    class Laptop:\n",
    "        \n",
    "        def __init__(self):\n",
    "            self.brand='HP'\n",
    "            self.ram=\"32gb\"\n",
    "        def show(self):\n",
    "            print(self.brand,self.ram)\n",
    "s1=Student('indra',2)\n",
    "s2=Student('Lucky',3)\n",
    "s3=Student('sena',5)"
   ]
  },
  {
   "cell_type": "code",
   "execution_count": 25,
   "id": "f47bde8e",
   "metadata": {},
   "outputs": [
    {
     "data": {
      "text/plain": [
       "'HP'"
      ]
     },
     "execution_count": 25,
     "metadata": {},
     "output_type": "execute_result"
    }
   ],
   "source": [
    "s1.lap.brand"
   ]
  },
  {
   "cell_type": "code",
   "execution_count": 26,
   "id": "1639e518",
   "metadata": {},
   "outputs": [],
   "source": [
    "s3=Student.Laptop()"
   ]
  },
  {
   "cell_type": "code",
   "execution_count": 27,
   "id": "4813dc82",
   "metadata": {},
   "outputs": [
    {
     "data": {
      "text/plain": [
       "'HP'"
      ]
     },
     "execution_count": 27,
     "metadata": {},
     "output_type": "execute_result"
    }
   ],
   "source": [
    "s3.brand"
   ]
  },
  {
   "cell_type": "code",
   "execution_count": 28,
   "id": "33c28175",
   "metadata": {},
   "outputs": [
    {
     "ename": "AttributeError",
     "evalue": "'Student' object has no attribute 'brand'",
     "output_type": "error",
     "traceback": [
      "\u001b[1;31m---------------------------------------------------------------------------\u001b[0m",
      "\u001b[1;31mAttributeError\u001b[0m                            Traceback (most recent call last)",
      "\u001b[1;32m~\\AppData\\Local\\Temp\\ipykernel_56680\\1621543069.py\u001b[0m in \u001b[0;36m<module>\u001b[1;34m\u001b[0m\n\u001b[1;32m----> 1\u001b[1;33m \u001b[0ms1\u001b[0m\u001b[1;33m.\u001b[0m\u001b[0mbrand\u001b[0m \u001b[1;31m# we also have to put lap here since brand is in laptop class\u001b[0m\u001b[1;33m\u001b[0m\u001b[1;33m\u001b[0m\u001b[0m\n\u001b[0m",
      "\u001b[1;31mAttributeError\u001b[0m: 'Student' object has no attribute 'brand'"
     ]
    }
   ],
   "source": [
    "s1.brand # we also have to put lap here since brand is in laptop class"
   ]
  },
  {
   "cell_type": "code",
   "execution_count": 29,
   "id": "7d55b6b1",
   "metadata": {},
   "outputs": [
    {
     "name": "stdout",
     "output_type": "stream",
     "text": [
      "HP 32gb\n"
     ]
    }
   ],
   "source": [
    "s3.show()"
   ]
  },
  {
   "cell_type": "code",
   "execution_count": 31,
   "id": "0f983408",
   "metadata": {},
   "outputs": [],
   "source": [
    "lap1=Student.Laptop()"
   ]
  },
  {
   "cell_type": "code",
   "execution_count": 32,
   "id": "7d6d50d6",
   "metadata": {},
   "outputs": [
    {
     "name": "stdout",
     "output_type": "stream",
     "text": [
      "HP 32gb\n"
     ]
    }
   ],
   "source": [
    "lap1.show()"
   ]
  },
  {
   "cell_type": "code",
   "execution_count": 33,
   "id": "be47bb2d",
   "metadata": {},
   "outputs": [
    {
     "name": "stdout",
     "output_type": "stream",
     "text": [
      "HP 32gb\n",
      "indra 2\n"
     ]
    }
   ],
   "source": [
    "s1.show()"
   ]
  },
  {
   "cell_type": "markdown",
   "id": "14522507",
   "metadata": {},
   "source": [
    "# lec 55 \n",
    "## Inheritance--> Acquiring the properties of a class or inherit the properties of parent class to a child class\n",
    "1. Single-level inheritance\n",
    "2. Multi-level inheritance\n",
    "3. Multiple Inheritance"
   ]
  },
  {
   "cell_type": "markdown",
   "id": "c7072480",
   "metadata": {},
   "source": [
    "1. Single-level inheritance\n"
   ]
  },
  {
   "cell_type": "code",
   "execution_count": 35,
   "id": "cafb74e3",
   "metadata": {},
   "outputs": [
    {
     "name": "stdout",
     "output_type": "stream",
     "text": [
      "Feature 1 working\n"
     ]
    }
   ],
   "source": [
    "class A:\n",
    "    def feature1(self):\n",
    "        print(\"Feature 1 working\")\n",
    "    def feature2(self):\n",
    "        print(\"Feature 2 working\")\n",
    "        \n",
    "class B(A):\n",
    "    def feature3(self):\n",
    "        print(\"Feature 3 working\")\n",
    "    def feature4(self):\n",
    "        print(\"Feature 4 working\")\n",
    "        \n",
    "a1=A()\n",
    "a1.feature1()\n",
    "        "
   ]
  },
  {
   "cell_type": "code",
   "execution_count": 37,
   "id": "84ddb9cc",
   "metadata": {},
   "outputs": [
    {
     "name": "stdout",
     "output_type": "stream",
     "text": [
      "Feature 3 working\n"
     ]
    }
   ],
   "source": [
    "b1=B()\n",
    "b1.feature3()"
   ]
  },
  {
   "cell_type": "code",
   "execution_count": 38,
   "id": "583bef86",
   "metadata": {},
   "outputs": [
    {
     "ename": "AttributeError",
     "evalue": "'A' object has no attribute 'feature3'",
     "output_type": "error",
     "traceback": [
      "\u001b[1;31m---------------------------------------------------------------------------\u001b[0m",
      "\u001b[1;31mAttributeError\u001b[0m                            Traceback (most recent call last)",
      "\u001b[1;32m~\\AppData\\Local\\Temp\\ipykernel_56680\\3426174610.py\u001b[0m in \u001b[0;36m<module>\u001b[1;34m\u001b[0m\n\u001b[1;32m----> 1\u001b[1;33m \u001b[0ma1\u001b[0m\u001b[1;33m.\u001b[0m\u001b[0mfeature3\u001b[0m\u001b[1;33m(\u001b[0m\u001b[1;33m)\u001b[0m\u001b[1;33m\u001b[0m\u001b[1;33m\u001b[0m\u001b[0m\n\u001b[0m",
      "\u001b[1;31mAttributeError\u001b[0m: 'A' object has no attribute 'feature3'"
     ]
    }
   ],
   "source": [
    "a1.feature3()"
   ]
  },
  {
   "cell_type": "code",
   "execution_count": 39,
   "id": "cdf23966",
   "metadata": {},
   "outputs": [
    {
     "name": "stdout",
     "output_type": "stream",
     "text": [
      "Feature 1 working\n"
     ]
    }
   ],
   "source": [
    "class A:\n",
    "    def feature1(self):\n",
    "        print(\"Feature 1 working\")\n",
    "    def feature2(self):\n",
    "        print(\"Feature 2 working\")\n",
    "        \n",
    "class B(A): # Single level inheritance\n",
    "    def feature3(self):\n",
    "        print(\"Feature 3 working\")\n",
    "    def feature4(self):\n",
    "        print(\"Feature 4 working\")\n",
    "class C(B): # multi level inheritance\n",
    "    def feature5(self):\n",
    "        print(\"Feature 5 working\")\n",
    "    \n",
    "        \n",
    "a1=A()\n",
    "a1.feature1()"
   ]
  },
  {
   "cell_type": "code",
   "execution_count": 40,
   "id": "95c91f72",
   "metadata": {},
   "outputs": [],
   "source": [
    "c1=C()"
   ]
  },
  {
   "cell_type": "code",
   "execution_count": 41,
   "id": "7a8d3acb",
   "metadata": {},
   "outputs": [
    {
     "name": "stdout",
     "output_type": "stream",
     "text": [
      "Feature 1 working\n"
     ]
    }
   ],
   "source": [
    "c1.feature1()"
   ]
  },
  {
   "cell_type": "code",
   "execution_count": 42,
   "id": "87b895f8",
   "metadata": {},
   "outputs": [
    {
     "name": "stdout",
     "output_type": "stream",
     "text": [
      "Feature 5 working\n"
     ]
    }
   ],
   "source": [
    "c1.feature5()"
   ]
  },
  {
   "cell_type": "code",
   "execution_count": 47,
   "id": "24d0c94d",
   "metadata": {},
   "outputs": [],
   "source": [
    "class A:\n",
    "    def feature1(self):\n",
    "        print(\"Feature 1 working\")\n",
    "    def feature2(self):\n",
    "        print(\"Feature 2 working\")\n",
    "        \n",
    "class B:\n",
    "    def feature3(self):\n",
    "        print(\"Feature 3 working\")\n",
    "    def feature4(self):\n",
    "        print(\"Feature 4 working\")\n",
    "\n",
    "class C(A,B): # --> Multiple inheritance\n",
    "    def feature5(self):\n",
    "        print('Feature 5 working')\n",
    "\n",
    "c1=C()"
   ]
  },
  {
   "cell_type": "code",
   "execution_count": 48,
   "id": "869187d0",
   "metadata": {},
   "outputs": [
    {
     "name": "stdout",
     "output_type": "stream",
     "text": [
      "Feature 2 working\n"
     ]
    }
   ],
   "source": [
    "c1.feature2()"
   ]
  },
  {
   "cell_type": "code",
   "execution_count": 49,
   "id": "9c077288",
   "metadata": {},
   "outputs": [
    {
     "name": "stdout",
     "output_type": "stream",
     "text": [
      "Feature 5 working\n"
     ]
    }
   ],
   "source": [
    "c1.feature5()"
   ]
  },
  {
   "cell_type": "code",
   "execution_count": null,
   "id": "18090e3f",
   "metadata": {},
   "outputs": [],
   "source": []
  },
  {
   "cell_type": "markdown",
   "id": "bf96e9a3",
   "metadata": {},
   "source": [
    "# lec 56 \n",
    "## Constructor in inheritance"
   ]
  },
  {
   "cell_type": "code",
   "execution_count": 52,
   "id": "319b31d3",
   "metadata": {},
   "outputs": [],
   "source": [
    "class A:\n",
    "    def __init__(self):\n",
    "        print(\"in A init constructor\")\n",
    "    def feature1(self):\n",
    "        print(\"Feature 1 working\")\n",
    "    def feature2(self):\n",
    "        print(\"Feature 2 working\")\n",
    "        \n",
    "class B(A):\n",
    "    def feature3(self):\n",
    "        print(\"Feature 3 working\")\n",
    "    def feature4(self):\n",
    "        print(\"Feature 4 working\")"
   ]
  },
  {
   "cell_type": "code",
   "execution_count": 53,
   "id": "06b28579",
   "metadata": {},
   "outputs": [
    {
     "name": "stdout",
     "output_type": "stream",
     "text": [
      "in A init constructor\n"
     ]
    }
   ],
   "source": [
    "b1=B() # since there is no init in B so A init is called "
   ]
  },
  {
   "cell_type": "code",
   "execution_count": 54,
   "id": "6481249e",
   "metadata": {},
   "outputs": [],
   "source": [
    "class A:\n",
    "    def __init__(self):\n",
    "        print(\"in A init constructor\")\n",
    "    def feature1(self):\n",
    "        print(\"Feature 1 working\")\n",
    "    def feature2(self):\n",
    "        print(\"Feature 2 working\")\n",
    "        \n",
    "class B(A):\n",
    "    def __init__(self):\n",
    "        print(\" in B init constructor\")\n",
    "    def feature3(self):\n",
    "        print(\"Feature 3 working\")\n",
    "    def feature4(self):\n",
    "        print(\"Feature 4 working\")"
   ]
  },
  {
   "cell_type": "code",
   "execution_count": 56,
   "id": "3d939927",
   "metadata": {},
   "outputs": [
    {
     "name": "stdout",
     "output_type": "stream",
     "text": [
      " in B init constructor\n"
     ]
    }
   ],
   "source": [
    "b1=B() #Since init is present in B so it is printed"
   ]
  },
  {
   "cell_type": "code",
   "execution_count": 57,
   "id": "78507ea0",
   "metadata": {},
   "outputs": [],
   "source": [
    "# to access the init of A in B also the we can use the super()"
   ]
  },
  {
   "cell_type": "code",
   "execution_count": 58,
   "id": "3cf82b25",
   "metadata": {},
   "outputs": [],
   "source": [
    "class A:\n",
    "    def __init__(self):\n",
    "        print(\"in A init constructor\")\n",
    "    def feature1(self):\n",
    "        print(\"Feature 1 working\")\n",
    "    def feature2(self):\n",
    "        print(\"Feature 2 working\")\n",
    "        \n",
    "class B(A):\n",
    "    def __init__(self):\n",
    "        super().__init__()\n",
    "        print(\" in B init constructor\")\n",
    "    def feature3(self):\n",
    "        print(\"Feature 3 working\")\n",
    "    def feature4(self):\n",
    "        print(\"Feature 4 working\")"
   ]
  },
  {
   "cell_type": "code",
   "execution_count": 60,
   "id": "b05c992d",
   "metadata": {},
   "outputs": [
    {
     "name": "stdout",
     "output_type": "stream",
     "text": [
      "in A init constructor\n",
      " in B init constructor\n"
     ]
    }
   ],
   "source": [
    "b1=B() # then parent init will be called then after B init will be called"
   ]
  },
  {
   "cell_type": "code",
   "execution_count": 65,
   "id": "63a78f3f",
   "metadata": {},
   "outputs": [],
   "source": [
    "class A:\n",
    "    def __init__(self):\n",
    "        print(\"in A init constructor\")\n",
    "    def feature1(self):\n",
    "        print(\"Feature 1 working\")\n",
    "    def feature2(self):\n",
    "        print(\"Feature 2 working\")\n",
    "        \n",
    "class B:\n",
    "    def __init__(self):\n",
    "        print(\" in B init constructor\")\n",
    "    def feature3(self):\n",
    "        print(\"Feature 3 working\")\n",
    "    def feature4(self):\n",
    "        print(\"Feature 4 working\")\n",
    "class C(A,B): # Mehtod Resolution Order works here which means first A is called here since it works from left to right\n",
    "    def __init__(self): \n",
    "        super().__init__()\n",
    "        print(\"in C init constructor\")"
   ]
  },
  {
   "cell_type": "code",
   "execution_count": 67,
   "id": "7b638b79",
   "metadata": {},
   "outputs": [
    {
     "name": "stdout",
     "output_type": "stream",
     "text": [
      "in A init constructor\n",
      "in C init constructor\n"
     ]
    }
   ],
   "source": [
    "c1=C() #Now which will be called first ? Either A init or B init"
   ]
  },
  {
   "cell_type": "code",
   "execution_count": null,
   "id": "19e8483f",
   "metadata": {},
   "outputs": [],
   "source": []
  },
  {
   "cell_type": "code",
   "execution_count": 73,
   "id": "b7ddb89a",
   "metadata": {},
   "outputs": [],
   "source": [
    "class A:\n",
    "    def __init__(self):\n",
    "        print(\"in A init constructor\")\n",
    "    def feature1(self):\n",
    "        print(\"Feature 1-A working\")\n",
    "    def feature2(self):\n",
    "        print(\"Feature 2 working\")\n",
    "        \n",
    "class B:\n",
    "    def __init__(self):\n",
    "        print(\" in B init constructor\")\n",
    "    def feature1(self):\n",
    "        print(\"Feature 1-Bworking\")\n",
    "    def feature4(self):\n",
    "        print(\"Feature 4 working\")\n",
    "class C(B,C): # Mehtod Resolution Order works here which means first A is called here since it works from left to right\n",
    "    def __init__(self): \n",
    "        super().__init__()\n",
    "        print(\"in C init constructor\")"
   ]
  },
  {
   "cell_type": "code",
   "execution_count": 74,
   "id": "9bcaa33c",
   "metadata": {},
   "outputs": [
    {
     "name": "stdout",
     "output_type": "stream",
     "text": [
      " in B init constructor\n",
      "in C init constructor\n"
     ]
    }
   ],
   "source": [
    "c1=C()"
   ]
  },
  {
   "cell_type": "code",
   "execution_count": 76,
   "id": "54394d69",
   "metadata": {},
   "outputs": [
    {
     "name": "stdout",
     "output_type": "stream",
     "text": [
      "Feature 1-Bworking\n"
     ]
    }
   ],
   "source": [
    "c1.feature1() # Similarly for methods also this will works in this way"
   ]
  },
  {
   "cell_type": "code",
   "execution_count": null,
   "id": "5591a2f4",
   "metadata": {},
   "outputs": [],
   "source": []
  },
  {
   "cell_type": "code",
   "execution_count": null,
   "id": "84f43931",
   "metadata": {},
   "outputs": [],
   "source": []
  },
  {
   "cell_type": "code",
   "execution_count": null,
   "id": "5ff573eb",
   "metadata": {},
   "outputs": [],
   "source": []
  }
 ],
 "metadata": {
  "kernelspec": {
   "display_name": "Python 3 (ipykernel)",
   "language": "python",
   "name": "python3"
  },
  "language_info": {
   "codemirror_mode": {
    "name": "ipython",
    "version": 3
   },
   "file_extension": ".py",
   "mimetype": "text/x-python",
   "name": "python",
   "nbconvert_exporter": "python",
   "pygments_lexer": "ipython3",
   "version": "3.9.13"
  }
 },
 "nbformat": 4,
 "nbformat_minor": 5
}
